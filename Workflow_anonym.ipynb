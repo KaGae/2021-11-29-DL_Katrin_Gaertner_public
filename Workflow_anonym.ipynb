{
 "cells": [
  {
   "cell_type": "code",
   "execution_count": 1,
   "id": "80f9d7df",
   "metadata": {},
   "outputs": [],
   "source": [
    "from tika import parser   # Importieren des Moduls parser von tika um den Inhalt des PDFs auszulesen\n",
    "import re # Importieren des Regexmoduls\n",
    "from mailmerge import MailMerge # Importieren von MailMerge aus docx-mailmerge2\n",
    "from datetime import datetime # Importieren von datetime"
   ]
  },
  {
   "cell_type": "code",
   "execution_count": 2,
   "id": "14afb67f",
   "metadata": {},
   "outputs": [
    {
     "name": "stdout",
     "output_type": "stream",
     "text": [
      "\n",
      "\n",
      "\n",
      "\n",
      "\n",
      "\n",
      "\n",
      "\n",
      "\n",
      "\n",
      "\n",
      "\n",
      "\n",
      "\n",
      "\n",
      "\n",
      "\n",
      "\n",
      "\n",
      "\n",
      "\n",
      "\n",
      "\n",
      "\n",
      "\n",
      "\n",
      "\n",
      "\n",
      "\n",
      "\n",
      "\n",
      "\n",
      "\n",
      "\n",
      "\n",
      "\n",
      "\n",
      "\n",
      "\n",
      "\n",
      "Hochschule XYX    Telefon: \n",
      "Bibliothek Email:\n",
      "\n",
      "Homepage:\n",
      "\n",
      "Adresse Bibliothek\n",
      "\n",
      "Herr/Frau\n",
      "Max Mustermann\n",
      "Straße 1\n",
      "\n",
      "PLZ1 Ort1\n",
      "\n",
      "Datum: 26.08.2022\n",
      "   Benutzernummer: 979xxxxxxxxxxx\n",
      "\n",
      "1. Aufforderung zur Medienrückgabe und Kostenrechnung\n",
      "\n",
      "Wir bitten um SOFORTIGE RÜCKGABE der unten aufgeführten Medien,\n",
      "deren Leihfrist abgelaufen ist.\n",
      "\n",
      " [Verfasser] / Titel\n",
      "Mediennummer / Signatur\n",
      "Leihfristende: \n",
      "Entliehen in Zweigstelle: xxxxx\n",
      "\n",
      "Mahngebühr: EUR xxx\n",
      "\n",
      "Bibliothek XY Tel:\n",
      "Straße Fax: \n",
      "Ort\n",
      "\n",
      "\n",
      "\n",
      "Hochschule XYX    Telefon: \n",
      "Bibliothek Email:\n",
      "\n",
      "Homepage:\n",
      "\n",
      "Adresse Bibliothek\n",
      "\n",
      "Herr/Frau\n",
      "Maxi Musterfrau\n",
      "Straße 2\n",
      "\n",
      "PLZ2 Ort2\n",
      "\n",
      "Datum: 26.08.2022\n",
      "   Benutzernummer: 979xxxxxxxxxxx\n",
      "\n",
      "1. Aufforderung zur Medienrückgabe und Kostenrechnung\n",
      "\n",
      "Wir bitten um SOFORTIGE RÜCKGABE der unten aufgeführten Medien,\n",
      "deren Leihfrist abgelaufen ist.\n",
      "\n",
      " [Verfasser] / Titel\n",
      "Mediennummer / Signatur\n",
      "Leihfristende: \n",
      "Entliehen in Zweigstelle: xxxxx\n",
      "\n",
      "Mahngebühr: EUR xxx\n",
      "\n",
      "Bibliothek XY Tel:\n",
      "Straße Fax: \n",
      "Ort\n",
      "\n",
      "\n",
      "\n",
      "Hochschule XYX    Telefon: \n",
      "Bibliothek Email:\n",
      "\n",
      "Homepage:\n",
      "\n",
      "Adresse Bibliothek\n",
      "\n",
      "Herr/Frau\n",
      "MiniMax Mustekind\n",
      "Straße 3\n",
      "\n",
      "PLZ3 Ort3\n",
      "\n",
      "Datum: 26.08.2022\n",
      "   Benutzernummer: 979xxxxxxxxxxx\n",
      "\n",
      "1. Aufforderung zur Medienrückgabe und Kostenrechnung\n",
      "\n",
      "Wir bitten um SOFORTIGE RÜCKGABE der unten aufgeführten Medien,\n",
      "deren Leihfrist abgelaufen ist.\n",
      "\n",
      " [Verfasser] / Titel\n",
      "Mediennummer / Signatur\n",
      "Leihfristende: \n",
      "Entliehen in Zweigstelle: xxxxx\n",
      "\n",
      "Mahngebühr: EUR xxx\n",
      "\n",
      "Bibliothek XY Tel:\n",
      "Straße Fax: \n",
      "Ort\n",
      "\n",
      "\n",
      "\n",
      "<class 'str'>\n"
     ]
    }
   ],
   "source": [
    "parsed_pdf = parser.from_file('20220826_Mahnung.pdf')\n",
    "# Einlesen des PDFs; diese Datei liegt im gleichen Ordner wie das Jupyter Notebook\n",
    "  \n",
    "data = parsed_pdf['content']   # Zuweisung des Inhalts (Content) des eingelesenen PDFs an die Variable data\n",
    "  \n",
    "print(data) # Anzeige des ausgelesenen Contents, d.h. der Variablen data\n",
    "  \n",
    "print(type(data)) # Anzeige des Dateityps der Variablen data"
   ]
  },
  {
   "cell_type": "code",
   "execution_count": 3,
   "id": "2ae28e97",
   "metadata": {},
   "outputs": [
    {
     "name": "stdout",
     "output_type": "stream",
     "text": [
      "['Herr/Frau\\nMax Mustermann\\nStraße 1\\n\\nPLZ1 Ort1', 'Herr/Frau\\nMaxi Musterfrau\\nStraße 2\\n\\nPLZ2 Ort2', 'Herr/Frau\\nMiniMax Mustekind\\nStraße 3\\n\\nPLZ3 Ort3']\n"
     ]
    }
   ],
   "source": [
    "input_address = re.findall(r'Herr/Frau.*\\n.*\\n.*\\n.*\\n.*', data) # Verwenden der Funktion findall des Regexmoduls\n",
    "# um jedes Auftreten der regular expression in data zu finden; Ergebnis ist eine Liste mit Strings\n",
    "print(input_address) # Anzeige der gefundenen Daten"
   ]
  },
  {
   "cell_type": "code",
   "execution_count": 4,
   "id": "ea08db7a",
   "metadata": {},
   "outputs": [
    {
     "name": "stdout",
     "output_type": "stream",
     "text": [
      "[{'Name': 'Max Mustermann', 'Adresszeile 1': 'Straße 1', 'Stadt': 'PLZ1 Ort1'}, {'Name': 'Maxi Musterfrau', 'Adresszeile 1': 'Straße 2', 'Stadt': 'PLZ2 Ort2'}, {'Name': 'MiniMax Mustekind', 'Adresszeile 1': 'Straße 3', 'Stadt': 'PLZ3 Ort3'}]\n"
     ]
    }
   ],
   "source": [
    "input_data = [] # Erzeugen einer leeren Liste \n",
    "for item in input_address:  # item ist Element der Liste, d.h. ein String\n",
    "    item_export = {} # Erstellen eines leeren Dictionaries\n",
    "    item_export['Name'] = (re.sub(r'Herr/Frau.*\\n','',re.search(r'Herr/Frau.*\\n.*', item).group(0))).rstrip() \n",
    "    # Ausschneiden des Names ohne Anrede Herr/Frau\n",
    "    item_export['Adresszeile 1'] = re.sub(r'\\n\\n.*','',re.sub(r'Herr/Frau.*\\n.*\\n','',item))\n",
    "    # Ausschneiden der Straße und Hausnummer \n",
    "    item_export['Stadt'] = (re.sub(r'Herr/Frau\\n.*\\n.*\\n\\n','',item)).rstrip()\n",
    "    # Ausschneiden von PLZ und Ort\n",
    "    input_data.append(item_export) # fügt das Dictionary zur Liste hinzu\n",
    "print(input_data) # Anzeige der mit Dictionaries gefüllten Liste"
   ]
  },
  {
   "cell_type": "code",
   "execution_count": 5,
   "id": "0b7a7878",
   "metadata": {},
   "outputs": [],
   "source": [
    "template = 'Mahnbescheid_anonym.docx'\n",
    "# template wird der String mit dem Dateinamen der Vorlage des Mahnbescheids mit Serienbrieffeldern zugewiesen;\n",
    "# diese Datei liegt im gleichen Ordner wie das Jupyter Notebook"
   ]
  },
  {
   "cell_type": "code",
   "execution_count": 6,
   "id": "a5bae813",
   "metadata": {},
   "outputs": [
    {
     "name": "stdout",
     "output_type": "stream",
     "text": [
      "{'Name', 'Adresszeile 1', 'Stadt'}\n"
     ]
    }
   ],
   "source": [
    "document = MailMerge(template, remove_empty_tables=True, auto_update_fields_on_open=\"always\") \n",
    "# Einlesen der Vorlage durch MailMerge\n",
    "print(document.get_merge_fields()) # Anzeige der Serienbrieffelder"
   ]
  },
  {
   "cell_type": "code",
   "execution_count": 7,
   "id": "facab8ef",
   "metadata": {},
   "outputs": [],
   "source": [
    "current_day = datetime.now().strftime('%Y%m%d') \n",
    "# Speichern des aktuellen Datums unter der Variablen current_day"
   ]
  },
  {
   "cell_type": "code",
   "execution_count": 8,
   "id": "a125c927",
   "metadata": {},
   "outputs": [],
   "source": [
    "document.merge_templates(input_data, separator='page_break') \n",
    "# Ausfüllen der Serienbrieffelder in der Vorlage durch die in der Liste\n",
    "# der Dictionaries input_date gespeicherten Daten\n",
    "document.write('output_mahnung'+current_day+'.docx') \n",
    "# Schreiben und Speichern des ausgefüllten Serienbriefes unter neuem Dateinamen"
   ]
  },
  {
   "cell_type": "code",
   "execution_count": 9,
   "id": "a7d205a3",
   "metadata": {},
   "outputs": [
    {
     "name": "stdout",
     "output_type": "stream",
     "text": [
      "Warning: failed to launch javaldx - java may not function correctly\n",
      "convert /home/katrin/2021-11-29-DL_Katrin_Gaertner/Modul_6/output_mahnung20220911.docx -> /home/katrin/2021-11-29-DL_Katrin_Gaertner/Modul_6/output_mahnung20220911.pdf using filter : writer_pdf_Export\n",
      "Overwriting: /home/katrin/2021-11-29-DL_Katrin_Gaertner/Modul_6/output_mahnung20220911.pdf\n"
     ]
    }
   ],
   "source": [
    "! libreoffice --headless --convert-to pdf output_mahnung$(date +\"%Y%m%d\").docx \n",
    "# Konvertieren des Word-Dokumentes zu PDF (als Bashbefehl durch !)\n",
    "# folgende Warnung scheint keinen Einfluss zu haben: \n",
    "# Warning faild to launch javaldx - java may not function correctly"
   ]
  },
  {
   "cell_type": "code",
   "execution_count": null,
   "id": "a242df49",
   "metadata": {},
   "outputs": [],
   "source": []
  }
 ],
 "metadata": {
  "kernelspec": {
   "display_name": "Python 3 (ipykernel)",
   "language": "python",
   "name": "python3"
  },
  "language_info": {
   "codemirror_mode": {
    "name": "ipython",
    "version": 3
   },
   "file_extension": ".py",
   "mimetype": "text/x-python",
   "name": "python",
   "nbconvert_exporter": "python",
   "pygments_lexer": "ipython3",
   "version": "3.9.7"
  }
 },
 "nbformat": 4,
 "nbformat_minor": 5
}
